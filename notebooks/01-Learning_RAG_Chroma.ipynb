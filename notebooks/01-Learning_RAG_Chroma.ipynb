{
 "cells": [
  {
   "cell_type": "markdown",
   "metadata": {},
   "source": [
    "## Triying my new DB"
   ]
  },
  {
   "cell_type": "code",
   "execution_count": 1,
   "metadata": {},
   "outputs": [
    {
     "data": {
      "text/plain": [
       "True"
      ]
     },
     "execution_count": 1,
     "metadata": {},
     "output_type": "execute_result"
    }
   ],
   "source": [
    "from langchain_chroma import Chroma\n",
    "from langchain_mistralai import MistralAIEmbeddings\n",
    "from langchain.chains import VectorDBQA\n",
    "import tqdm as notebook_tqdm\n",
    "from dotenv import load_dotenv\n",
    "load_dotenv()"
   ]
  },
  {
   "cell_type": "code",
   "execution_count": 2,
   "metadata": {},
   "outputs": [
    {
     "name": "stderr",
     "output_type": "stream",
     "text": [
      "/home/julian/miniconda3/envs/reader_comrade/lib/python3.11/site-packages/tqdm/auto.py:21: TqdmWarning: IProgress not found. Please update jupyter and ipywidgets. See https://ipywidgets.readthedocs.io/en/stable/user_install.html\n",
      "  from .autonotebook import tqdm as notebook_tqdm\n"
     ]
    }
   ],
   "source": [
    "embeddings = MistralAIEmbeddings()"
   ]
  },
  {
   "cell_type": "code",
   "execution_count": 3,
   "metadata": {},
   "outputs": [],
   "source": [
    "vectordb = Chroma(collection_name=\"book_db\", persist_directory=\"../book_db\", embedding_function=embeddings)\n",
    "retriever = vectordb.as_retriever()"
   ]
  },
  {
   "cell_type": "code",
   "execution_count": 4,
   "metadata": {},
   "outputs": [],
   "source": [
    "query = \"Gabriel\"\n",
    "retrieved_docs = retriever.invoke(query)"
   ]
  },
  {
   "cell_type": "code",
   "execution_count": 5,
   "metadata": {},
   "outputs": [
    {
     "name": "stdout",
     "output_type": "stream",
     "text": [
      "Chunk 1:\n",
      "Cien años de soledad \n",
      "Gabriel  García Márquez \n",
      " 9 \n",
      "que una vez más llegaban a la aldea, pregonando el último y asombroso descubrimiento de los \n",
      "sabios de Memphis. \n",
      "Eran gitanos nuevos. Hombres y mujeres jóvenes que sólo conocían su propia lengua, \n",
      "ejemplares hermosos de piel aceitada y manos inteligentes, cuyos bailes y músicas sembraron en \n",
      "las calles un pánico de alborotada alegría, con sus loros pintados de todos los colores que\n",
      "--------------------------------------------------\n",
      "Chunk 2:\n",
      "Cien años de soledad \n",
      "Gabriel  García Márquez \n",
      " 5 \n",
      "mantenía enredado en los minúsculos problemas de la vida cotidiana. Se quejaba de dolencias de \n",
      "viejo, sufría por los más insignificantes percances económicos y había dejado de reír desde hacía \n",
      "mucho tiempo, porque el escorbuto le había arrancado los dientes. El sofocante mediodía en que \n",
      "reveló sus secretos, José Arcadio Buendía tuvo la certidumbre de que aquél era el principio de\n",
      "--------------------------------------------------\n",
      "Chunk 3:\n",
      "prehistóricos. El mundo era tan reciente, que muchas cosas carecían de nombre, y para \n",
      "mencionarlas había que señalarías con el dedo. Todos los años, por el mes de marzo, una familia \n",
      "de gitanos desarrapados plantaba su carpa cerca de la aldea, y con un grande alboroto de pitos y \n",
      "timbales daban a conocer los nuevos inventos. Primero llevaron el imán. Un gitano corpulento, de \n",
      "barba montaraz y manos de gorrión, que se presentó con el nombre de Melquiades, hizo una\n",
      "--------------------------------------------------\n",
      "Chunk 4:\n",
      "Cien años de soledad \n",
      "Gabriel  García Márquez \n",
      " 4 \n",
      "poder de convicción irresistible. Lo envió a las autoridades acompañado de numerosos \n",
      "testimonios sobre sus experiencias y de varios pliegos de dibujos explicativos, al cuidado de un \n",
      "mensajero que atravesó la sierra, y se extravió en pantanos desmesurados, remontó ríos \n",
      "tormentosos y estuvo a punto de perecer bajo el azote de las fieras, la desesperación y la peste,\n",
      "--------------------------------------------------\n"
     ]
    }
   ],
   "source": [
    "for i, doc in enumerate(retrieved_docs):\n",
    "    print(f\"Chunk {i+1}:\")\n",
    "    print(doc.page_content)\n",
    "    print(\"-\" * 50)"
   ]
  },
  {
   "cell_type": "code",
   "execution_count": 6,
   "metadata": {},
   "outputs": [
    {
     "data": {
      "text/plain": [
       "[Document(id='d00b43ae-0dc9-4688-9abd-c06a5011e764', metadata={}, page_content='Cien años de soledad \\nGabriel  García Márquez \\n 9 \\nque una vez más llegaban a la aldea, pregonando el último y asombroso descubrimiento de los \\nsabios de Memphis. \\nEran gitanos nuevos. Hombres y mujeres jóvenes que sólo conocían su propia lengua, \\nejemplares hermosos de piel aceitada y manos inteligentes, cuyos bailes y músicas sembraron en \\nlas calles un pánico de alborotada alegría, con sus loros pintados de todos los colores que'),\n",
       " Document(id='6ee5cc03-4947-4cd0-9dc7-a062cbeca09f', metadata={}, page_content='Cien años de soledad \\nGabriel  García Márquez \\n 5 \\nmantenía enredado en los minúsculos problemas de la vida cotidiana. Se quejaba de dolencias de \\nviejo, sufría por los más insignificantes percances económicos y había dejado de reír desde hacía \\nmucho tiempo, porque el escorbuto le había arrancado los dientes. El sofocante mediodía en que \\nreveló sus secretos, José Arcadio Buendía tuvo la certidumbre de que aquél era el principio de'),\n",
       " Document(id='9d67e815-d10e-48f9-92fc-808763c29ae3', metadata={}, page_content='prehistóricos. El mundo era tan reciente, que muchas cosas carecían de nombre, y para \\nmencionarlas había que señalarías con el dedo. Todos los años, por el mes de marzo, una familia \\nde gitanos desarrapados plantaba su carpa cerca de la aldea, y con un grande alboroto de pitos y \\ntimbales daban a conocer los nuevos inventos. Primero llevaron el imán. Un gitano corpulento, de \\nbarba montaraz y manos de gorrión, que se presentó con el nombre de Melquiades, hizo una'),\n",
       " Document(id='ee283d6c-2659-4125-a67f-46e2cbfa7c42', metadata={}, page_content='Cien años de soledad \\nGabriel  García Márquez \\n 4 \\npoder de convicción irresistible. Lo envió a las autoridades acompañado de numerosos \\ntestimonios sobre sus experiencias y de varios pliegos de dibujos explicativos, al cuidado de un \\nmensajero que atravesó la sierra, y se extravió en pantanos desmesurados, remontó ríos \\ntormentosos y estuvo a punto de perecer bajo el azote de las fieras, la desesperación y la peste,')]"
      ]
     },
     "execution_count": 6,
     "metadata": {},
     "output_type": "execute_result"
    }
   ],
   "source": [
    "retrieved_docs"
   ]
  }
 ],
 "metadata": {
  "kernelspec": {
   "display_name": "reader_comrade",
   "language": "python",
   "name": "python3"
  },
  "language_info": {
   "codemirror_mode": {
    "name": "ipython",
    "version": 3
   },
   "file_extension": ".py",
   "mimetype": "text/x-python",
   "name": "python",
   "nbconvert_exporter": "python",
   "pygments_lexer": "ipython3",
   "version": "3.11.11"
  }
 },
 "nbformat": 4,
 "nbformat_minor": 2
}
